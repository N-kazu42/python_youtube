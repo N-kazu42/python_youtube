{
 "cells": [
  {
   "cell_type": "code",
   "execution_count": 4,
   "id": "4ab4a9fd",
   "metadata": {},
   "outputs": [],
   "source": [
    "import pandas as pd"
   ]
  },
  {
   "cell_type": "code",
   "execution_count": 5,
   "id": "5deb3e17",
   "metadata": {},
   "outputs": [
    {
     "data": {
      "text/plain": [
       "0    90\n",
       "1    78\n",
       "2    65\n",
       "3    87\n",
       "4    72\n",
       "dtype: int64"
      ]
     },
     "execution_count": 5,
     "metadata": {},
     "output_type": "execute_result"
    }
   ],
   "source": [
    "s1 = pd.Series([90,78,65,87,72])\n",
    "s1"
   ]
  },
  {
   "cell_type": "code",
   "execution_count": 6,
   "id": "4da712a4",
   "metadata": {},
   "outputs": [],
   "source": [
    "data = [90,78,65,87,72]"
   ]
  },
  {
   "cell_type": "code",
   "execution_count": 7,
   "id": "8022fa10",
   "metadata": {},
   "outputs": [
    {
     "data": {
      "text/plain": [
       "0    90\n",
       "1    78\n",
       "2    65\n",
       "3    87\n",
       "4    72\n",
       "dtype: int64"
      ]
     },
     "execution_count": 7,
     "metadata": {},
     "output_type": "execute_result"
    }
   ],
   "source": [
    "s1 = pd.Series(data)\n",
    "s1"
   ]
  },
  {
   "cell_type": "code",
   "execution_count": 8,
   "id": "d7de09c2",
   "metadata": {},
   "outputs": [],
   "source": [
    "import numpy as np"
   ]
  },
  {
   "cell_type": "code",
   "execution_count": 9,
   "id": "7a00e61a",
   "metadata": {},
   "outputs": [
    {
     "data": {
      "text/plain": [
       "array([1, 3, 5, 7, 9])"
      ]
     },
     "execution_count": 9,
     "metadata": {},
     "output_type": "execute_result"
    }
   ],
   "source": [
    "np.arange(1,10,2)"
   ]
  },
  {
   "cell_type": "code",
   "execution_count": 10,
   "id": "23883b77",
   "metadata": {},
   "outputs": [
    {
     "data": {
      "text/plain": [
       "0    1\n",
       "1    3\n",
       "2    5\n",
       "3    7\n",
       "4    9\n",
       "dtype: int32"
      ]
     },
     "execution_count": 10,
     "metadata": {},
     "output_type": "execute_result"
    }
   ],
   "source": [
    "s2 = pd.Series(np.arange(1,10,2))\n",
    "s2"
   ]
  },
  {
   "cell_type": "code",
   "execution_count": 11,
   "id": "c77f3741",
   "metadata": {},
   "outputs": [],
   "source": [
    "data = np.arange(1,10,2)"
   ]
  },
  {
   "cell_type": "code",
   "execution_count": 12,
   "id": "fb007a51",
   "metadata": {},
   "outputs": [
    {
     "data": {
      "text/plain": [
       "0    1\n",
       "1    3\n",
       "2    5\n",
       "3    7\n",
       "4    9\n",
       "dtype: int32"
      ]
     },
     "execution_count": 12,
     "metadata": {},
     "output_type": "execute_result"
    }
   ],
   "source": [
    "s2 = pd.Series(data)\n",
    "s2"
   ]
  },
  {
   "cell_type": "code",
   "execution_count": 13,
   "id": "579f803a",
   "metadata": {},
   "outputs": [
    {
     "data": {
      "text/plain": [
       "0    90\n",
       "1    78\n",
       "2    65\n",
       "3    87\n",
       "4    72\n",
       "dtype: int64"
      ]
     },
     "execution_count": 13,
     "metadata": {},
     "output_type": "execute_result"
    }
   ],
   "source": [
    "s1"
   ]
  },
  {
   "cell_type": "code",
   "execution_count": 14,
   "id": "25ded63f",
   "metadata": {},
   "outputs": [
    {
     "data": {
      "text/plain": [
       "dtype('int64')"
      ]
     },
     "execution_count": 14,
     "metadata": {},
     "output_type": "execute_result"
    }
   ],
   "source": [
    "s1.dtypes"
   ]
  },
  {
   "cell_type": "code",
   "execution_count": 15,
   "id": "b2dcb5c3",
   "metadata": {},
   "outputs": [
    {
     "data": {
      "text/plain": [
       "RangeIndex(start=0, stop=5, step=1)"
      ]
     },
     "execution_count": 15,
     "metadata": {},
     "output_type": "execute_result"
    }
   ],
   "source": [
    "s1.index"
   ]
  },
  {
   "cell_type": "code",
   "execution_count": 16,
   "id": "2c635b84",
   "metadata": {},
   "outputs": [
    {
     "data": {
      "text/plain": [
       "sato         90\n",
       "suzuki       78\n",
       "takahashi    65\n",
       "tanaka       87\n",
       "ito          72\n",
       "dtype: int64"
      ]
     },
     "execution_count": 16,
     "metadata": {},
     "output_type": "execute_result"
    }
   ],
   "source": [
    "s1.index = ['sato','suzuki','takahashi','tanaka','ito']\n",
    "s1"
   ]
  },
  {
   "cell_type": "code",
   "execution_count": 17,
   "id": "be3ec710",
   "metadata": {},
   "outputs": [
    {
     "data": {
      "text/plain": [
       "Index(['sato', 'suzuki', 'takahashi', 'tanaka', 'ito'], dtype='object')"
      ]
     },
     "execution_count": 17,
     "metadata": {},
     "output_type": "execute_result"
    }
   ],
   "source": [
    "s1.index"
   ]
  },
  {
   "cell_type": "code",
   "execution_count": 18,
   "id": "8944d473",
   "metadata": {},
   "outputs": [],
   "source": [
    "dict01 = {'sato':90,'suzuki':78,'takahashi':65,'tanaka':87,'ito':72}"
   ]
  },
  {
   "cell_type": "code",
   "execution_count": 19,
   "id": "9d1faafe",
   "metadata": {},
   "outputs": [
    {
     "data": {
      "text/plain": [
       "sato         90\n",
       "suzuki       78\n",
       "takahashi    65\n",
       "tanaka       87\n",
       "ito          72\n",
       "dtype: int64"
      ]
     },
     "execution_count": 19,
     "metadata": {},
     "output_type": "execute_result"
    }
   ],
   "source": [
    "s3 = pd.Series(dict01)\n",
    "s3"
   ]
  },
  {
   "cell_type": "code",
   "execution_count": 20,
   "id": "795b0954",
   "metadata": {},
   "outputs": [
    {
     "data": {
      "text/plain": [
       "array([90, 78, 65, 87, 72], dtype=int64)"
      ]
     },
     "execution_count": 20,
     "metadata": {},
     "output_type": "execute_result"
    }
   ],
   "source": [
    "s1.values"
   ]
  },
  {
   "cell_type": "code",
   "execution_count": 21,
   "id": "3fb52897",
   "metadata": {},
   "outputs": [
    {
     "data": {
      "text/plain": [
       "78"
      ]
     },
     "execution_count": 21,
     "metadata": {},
     "output_type": "execute_result"
    }
   ],
   "source": [
    "s1['suzuki']"
   ]
  },
  {
   "cell_type": "code",
   "execution_count": 22,
   "id": "8fb9ce9f",
   "metadata": {},
   "outputs": [
    {
     "data": {
      "text/plain": [
       "78"
      ]
     },
     "execution_count": 22,
     "metadata": {},
     "output_type": "execute_result"
    }
   ],
   "source": [
    "s1[1]"
   ]
  },
  {
   "cell_type": "code",
   "execution_count": 23,
   "id": "1ed26278",
   "metadata": {},
   "outputs": [
    {
     "data": {
      "text/plain": [
       "suzuki    78\n",
       "tanaka    87\n",
       "dtype: int64"
      ]
     },
     "execution_count": 23,
     "metadata": {},
     "output_type": "execute_result"
    }
   ],
   "source": [
    "s1[['suzuki','tanaka']]"
   ]
  },
  {
   "cell_type": "code",
   "execution_count": 24,
   "id": "e535ac1b",
   "metadata": {},
   "outputs": [
    {
     "data": {
      "text/plain": [
       "suzuki    78\n",
       "tanaka    87\n",
       "dtype: int64"
      ]
     },
     "execution_count": 24,
     "metadata": {},
     "output_type": "execute_result"
    }
   ],
   "source": [
    "s1[[1,3]]"
   ]
  },
  {
   "cell_type": "code",
   "execution_count": 25,
   "id": "bc35fa88",
   "metadata": {},
   "outputs": [
    {
     "data": {
      "text/plain": [
       "sato          True\n",
       "suzuki       False\n",
       "takahashi    False\n",
       "tanaka        True\n",
       "ito          False\n",
       "dtype: bool"
      ]
     },
     "execution_count": 25,
     "metadata": {},
     "output_type": "execute_result"
    }
   ],
   "source": [
    "s1>80"
   ]
  },
  {
   "cell_type": "code",
   "execution_count": 26,
   "id": "924cf53c",
   "metadata": {},
   "outputs": [
    {
     "data": {
      "text/plain": [
       "sato      90\n",
       "tanaka    87\n",
       "dtype: int64"
      ]
     },
     "execution_count": 26,
     "metadata": {},
     "output_type": "execute_result"
    }
   ],
   "source": [
    "s1[s1>80]"
   ]
  },
  {
   "cell_type": "code",
   "execution_count": 27,
   "id": "753c283c",
   "metadata": {},
   "outputs": [
    {
     "data": {
      "text/plain": [
       "5"
      ]
     },
     "execution_count": 27,
     "metadata": {},
     "output_type": "execute_result"
    }
   ],
   "source": [
    "s1.size"
   ]
  },
  {
   "cell_type": "code",
   "execution_count": 28,
   "id": "29494e82",
   "metadata": {},
   "outputs": [
    {
     "data": {
      "text/plain": [
       "5"
      ]
     },
     "execution_count": 28,
     "metadata": {},
     "output_type": "execute_result"
    }
   ],
   "source": [
    "len(s1)"
   ]
  },
  {
   "cell_type": "code",
   "execution_count": 29,
   "id": "f99e132a",
   "metadata": {},
   "outputs": [
    {
     "data": {
      "text/plain": [
       "member\n",
       "sato         90\n",
       "suzuki       78\n",
       "takahashi    65\n",
       "tanaka       87\n",
       "ito          72\n",
       "Name: score, dtype: int64"
      ]
     },
     "execution_count": 29,
     "metadata": {},
     "output_type": "execute_result"
    }
   ],
   "source": [
    "s1.index.name = 'member'\n",
    "s1.name = 'score'\n",
    "s1"
   ]
  },
  {
   "cell_type": "code",
   "execution_count": 30,
   "id": "b9f982c8",
   "metadata": {},
   "outputs": [
    {
     "data": {
      "text/plain": [
       "member\n",
       "sato         92\n",
       "suzuki       80\n",
       "takahashi    67\n",
       "tanaka       89\n",
       "ito          74\n",
       "Name: score, dtype: int64"
      ]
     },
     "execution_count": 30,
     "metadata": {},
     "output_type": "execute_result"
    }
   ],
   "source": [
    "s1 + 2"
   ]
  },
  {
   "cell_type": "code",
   "execution_count": 31,
   "id": "44d61281",
   "metadata": {},
   "outputs": [
    {
     "data": {
      "text/plain": [
       "member\n",
       "sato         88\n",
       "suzuki       76\n",
       "takahashi    63\n",
       "tanaka       85\n",
       "ito          70\n",
       "Name: score, dtype: int64"
      ]
     },
     "execution_count": 31,
     "metadata": {},
     "output_type": "execute_result"
    }
   ],
   "source": [
    "s1-2"
   ]
  },
  {
   "cell_type": "code",
   "execution_count": 32,
   "id": "fa2d6e4a",
   "metadata": {},
   "outputs": [
    {
     "data": {
      "text/plain": [
       "member\n",
       "sato         180\n",
       "suzuki       156\n",
       "takahashi    130\n",
       "tanaka       174\n",
       "ito          144\n",
       "Name: score, dtype: int64"
      ]
     },
     "execution_count": 32,
     "metadata": {},
     "output_type": "execute_result"
    }
   ],
   "source": [
    "s1*2"
   ]
  },
  {
   "cell_type": "code",
   "execution_count": 33,
   "id": "daf85101",
   "metadata": {},
   "outputs": [
    {
     "data": {
      "text/plain": [
       "member\n",
       "sato         45.0\n",
       "suzuki       39.0\n",
       "takahashi    32.5\n",
       "tanaka       43.5\n",
       "ito          36.0\n",
       "Name: score, dtype: float64"
      ]
     },
     "execution_count": 33,
     "metadata": {},
     "output_type": "execute_result"
    }
   ],
   "source": [
    "s1/2"
   ]
  },
  {
   "cell_type": "code",
   "execution_count": 34,
   "id": "9c1ac2a4",
   "metadata": {},
   "outputs": [
    {
     "data": {
      "text/plain": [
       "0    1\n",
       "1    3\n",
       "2    5\n",
       "3    7\n",
       "4    9\n",
       "dtype: int32"
      ]
     },
     "execution_count": 34,
     "metadata": {},
     "output_type": "execute_result"
    }
   ],
   "source": [
    "s2"
   ]
  },
  {
   "cell_type": "code",
   "execution_count": 35,
   "id": "36b08e99",
   "metadata": {},
   "outputs": [],
   "source": [
    "s2.index = ['suzuki','takahashi','tanaka','ito','watanabe']"
   ]
  },
  {
   "cell_type": "code",
   "execution_count": 36,
   "id": "3b9aaca6",
   "metadata": {},
   "outputs": [
    {
     "data": {
      "text/plain": [
       "suzuki       1\n",
       "takahashi    3\n",
       "tanaka       5\n",
       "ito          7\n",
       "watanabe     9\n",
       "dtype: int32"
      ]
     },
     "execution_count": 36,
     "metadata": {},
     "output_type": "execute_result"
    }
   ],
   "source": [
    "s2"
   ]
  },
  {
   "cell_type": "code",
   "execution_count": 37,
   "id": "6ca3c32b",
   "metadata": {},
   "outputs": [
    {
     "data": {
      "text/plain": [
       "member\n",
       "sato         90\n",
       "suzuki       78\n",
       "takahashi    65\n",
       "tanaka       87\n",
       "ito          72\n",
       "Name: score, dtype: int64"
      ]
     },
     "execution_count": 37,
     "metadata": {},
     "output_type": "execute_result"
    }
   ],
   "source": [
    "s1"
   ]
  },
  {
   "cell_type": "code",
   "execution_count": 38,
   "id": "3c0a6ba1",
   "metadata": {},
   "outputs": [
    {
     "data": {
      "text/plain": [
       "ito          79.0\n",
       "sato          NaN\n",
       "suzuki       79.0\n",
       "takahashi    68.0\n",
       "tanaka       92.0\n",
       "watanabe      NaN\n",
       "dtype: float64"
      ]
     },
     "execution_count": 38,
     "metadata": {},
     "output_type": "execute_result"
    }
   ],
   "source": [
    "s1+s2"
   ]
  },
  {
   "cell_type": "code",
   "execution_count": null,
   "id": "ef403e22",
   "metadata": {},
   "outputs": [],
   "source": []
  }
 ],
 "metadata": {
  "kernelspec": {
   "display_name": "Python 3 (ipykernel)",
   "language": "python",
   "name": "python3"
  },
  "language_info": {
   "codemirror_mode": {
    "name": "ipython",
    "version": 3
   },
   "file_extension": ".py",
   "mimetype": "text/x-python",
   "name": "python",
   "nbconvert_exporter": "python",
   "pygments_lexer": "ipython3",
   "version": "3.9.12"
  }
 },
 "nbformat": 4,
 "nbformat_minor": 5
}
